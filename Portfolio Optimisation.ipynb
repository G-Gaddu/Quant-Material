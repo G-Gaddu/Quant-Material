{
 "cells": [
  {
   "cell_type": "code",
   "execution_count": 17,
   "id": "5ba06272",
   "metadata": {},
   "outputs": [
    {
     "ename": "SyntaxError",
     "evalue": "invalid syntax (<ipython-input-17-2e32e3c3c9e6>, line 2)",
     "output_type": "error",
     "traceback": [
      "\u001b[1;36m  File \u001b[1;32m\"<ipython-input-17-2e32e3c3c9e6>\"\u001b[1;36m, line \u001b[1;32m2\u001b[0m\n\u001b[1;33m    import pandas-datareader.data as pdata\u001b[0m\n\u001b[1;37m                 ^\u001b[0m\n\u001b[1;31mSyntaxError\u001b[0m\u001b[1;31m:\u001b[0m invalid syntax\n"
     ]
    }
   ],
   "source": [
    "# Will need to run the following in anaconda before\n",
    "# pip install pandas-datareader\n",
    "# pip install PyPortfolioOpt\n"
   ]
  },
  {
   "cell_type": "code",
   "execution_count": null,
   "id": "450ff0d0",
   "metadata": {},
   "outputs": [],
   "source": [
    "# Import the necessary packages\n",
    "import pandas-datareader.data as pdata\n",
    "import datetime\n",
    "import pandas as pd\n",
    "from functools import reduce\n",
    "from pypfopt.expected_returns import mean_historial_return\n",
    "from pypfopt.risk_models import CovarianceShrinkage\n",
    "from pypfopt.efficient_frontier import EfficientFrontier\n",
    "from pypfopt.discrete_allocation import DiscreteAllocation, get_latest_prices\n",
    "from pypfopt import HRPOpt"
   ]
  },
  {
   "cell_type": "code",
   "execution_count": null,
   "id": "63302d9a",
   "metadata": {},
   "outputs": [],
   "source": [
    "# Limit the display limits on the rows and the columns\n",
    "pd.set_option('display.max_columns', None)\n",
    "pd.set_option('display.max_rows', None)"
   ]
  },
  {
   "cell_type": "code",
   "execution_count": null,
   "id": "43a90dc0",
   "metadata": {},
   "outputs": [],
   "source": [
    "# Define the period we want to look over\n",
    "start = datetime.datetime(2022, 1, 1)\n",
    "end = datetime.datetime(2023, 12, 31)"
   ]
  },
  {
   "cell_type": "code",
   "execution_count": null,
   "id": "5b4b3d49",
   "metadata": {},
   "outputs": [],
   "source": [
    "# Create a function that will pull the data for several stocks\n",
    "def get_stock(ticker):\n",
    "    data = pdata.DataReader(f\"{ticker}\",\"yahoo\",start,end)\n",
    "    data[f'{ticker}'] = data[\"Close\"]\n",
    "    data = data[[f'{ticker}']]\n",
    "    print(data.head())\n",
    "    return data\n",
    "         "
   ]
  },
  {
   "cell_type": "code",
   "execution_count": null,
   "id": "74727dfc",
   "metadata": {},
   "outputs": [],
   "source": [
    "# Create another function that takes a list of stocks and generates a single data frame of stock prices for each stock\n",
    "def combine_stocks(tickers):\n",
    "    data_frames = []\n",
    "    for i in tickers:\n",
    "        data_frames.append(get_stock(i))\n",
    "        \n",
    "    df_merged = reduce(lambda, left,right: pd.merge(left, right, on=['Date'], how='outer'), date_frames)\n",
    "    print(df_merged.head())\n",
    "    return df_merged\n",
    "# Create a portfolio from the following stocks: Apple, Astrazeneca, JP Morgan, Accenture, Coca Cola, Boeing, Walmart, Shell, Vanguard, GSK\n",
    "stocks = [\"AAPL\", \"AZN.L\", \"JPM\", \"ACN\", \"CCH.L\", \"BA\", \"WMT\", \"SHEL.L\", \"VTI\", \"GSK.L\"]\n",
    "portfolio = combine_stocks(stocks)"
   ]
  },
  {
   "cell_type": "code",
   "execution_count": null,
   "id": "f90050cd",
   "metadata": {},
   "outputs": [],
   "source": [
    "# Save the prices as a csv file\n",
    "portfolio.to_csv(\"portfolio.csv\", index=False)\n",
    "portfolio = pd.read_csv(\"portfolio.csv\")"
   ]
  },
  {
   "cell_type": "code",
   "execution_count": null,
   "id": "0ad664aa",
   "metadata": {},
   "outputs": [],
   "source": [
    "# Markowtiz optimisation\n",
    "# Find the mean historical return and covariance matrix\n",
    "mu = mean_histotical_return(portfolio)\n",
    "S = CovarianceShrinkage(portfolio).ledoit_wolf()"
   ]
  },
  {
   "cell_type": "code",
   "execution_count": null,
   "id": "d61f6fd0",
   "metadata": {},
   "outputs": [],
   "source": [
    "# Determine the Efficient Frontier and weights \n",
    "ef = EfficientFrontier(mu, S)\n",
    "weights = ef.max_sharpe()\n",
    "cleaned_weights = ef.clean_weights()\n",
    "print(dict(cleaned_weights))"
   ]
  },
  {
   "cell_type": "code",
   "execution_count": null,
   "id": "f83a1b62",
   "metadata": {},
   "outputs": [],
   "source": [
    "# Display portfolio performance\n",
    "ef.portfolio_performance(verbose=True)"
   ]
  },
  {
   "cell_type": "code",
   "execution_count": null,
   "id": "f26e9244",
   "metadata": {},
   "outputs": [],
   "source": [
    "# Convert Weights into allocations from an investment of $100,000\n",
    "latest_prices = get_latest_prices(portfolio)\n",
    "da = DiscreteAllocation(weights, latest_prices, total_portfolio_value=100000)\n",
    "allocation, leftover = da.greedy_portfolio\n",
    "print(\"Discrete allocation:\", allocation)\n",
    "print(\"Funds remaining: ${:.2f}\".format(leftover))"
   ]
  },
  {
   "cell_type": "code",
   "execution_count": null,
   "id": "4546ffd4",
   "metadata": {},
   "outputs": [],
   "source": [
    "# Hierachicial Risk Parity\n",
    "# Determine returns\n",
    "returns = portfolio.pct_change().dropna()"
   ]
  },
  {
   "cell_type": "code",
   "execution_count": null,
   "id": "56682b74",
   "metadata": {},
   "outputs": [],
   "source": [
    "# Run optimisaiton algorithm to get the weights\n",
    "hrp = HRPOpt(returns)\n",
    "hrp_weights = hrp.optimize()"
   ]
  },
  {
   "cell_type": "code",
   "execution_count": null,
   "id": "be5281e7",
   "metadata": {},
   "outputs": [],
   "source": [
    "# Print performance of portfolio and weights\n",
    "hrp.portfolio_performance(verbose=True)\n",
    "print(dict(hrp_weights))"
   ]
  },
  {
   "cell_type": "code",
   "execution_count": null,
   "id": "415df395",
   "metadata": {},
   "outputs": [],
   "source": [
    "# Determine discrete allocation using weights\n",
    "da_hrp = DiscreteAllocation(hrp_weights, latest_prices, total_portfolio_value=100000)\n",
    "allocation, leftover = da_hrp.greedy_portfolio()\n",
    "print(\"Discrete allocation (HRP):\", allocation)\n",
    "print(\"Funds remaining (HRP): ${:.2f}\".format(leftover))"
   ]
  },
  {
   "cell_type": "code",
   "execution_count": null,
   "id": "3a87d114",
   "metadata": {},
   "outputs": [],
   "source": [
    "# Mean conditional value at risk\n",
    "from pypfopt.efficient_frontier import EfficientCVaR"
   ]
  },
  {
   "cell_type": "code",
   "execution_count": null,
   "id": "dc3f9a56",
   "metadata": {},
   "outputs": [],
   "source": [
    "# Calculate weights and get performance\n",
    "S = portfolio.cov()\n",
    "ef_cvar = EfficientCVaR(mu, S)\n",
    "cvar_weights = ef_cvar.min_cvar()\n",
    "cleaned_weights = ef_cvar.clean_weights()\n",
    "print(dict(cleaned_weights))"
   ]
  },
  {
   "cell_type": "code",
   "execution_count": null,
   "id": "c4746610",
   "metadata": {},
   "outputs": [],
   "source": [
    "# Get the discrete allocation\n",
    "da_cvar = DiscreteAllocatoin(cvar_weights, latest_prices, total_portfolio_value = 100000)\n",
    "allocation, leftover = da_cvar.greedy_portfolio()\n",
    "print(\"Discrete allocation (CVAR):\", allocation)\n",
    "print(\"Funds remaining (CVAR): ${:.2f}\".format(leftover))"
   ]
  }
 ],
 "metadata": {
  "kernelspec": {
   "display_name": "Python 3",
   "language": "python",
   "name": "python3"
  },
  "language_info": {
   "codemirror_mode": {
    "name": "ipython",
    "version": 3
   },
   "file_extension": ".py",
   "mimetype": "text/x-python",
   "name": "python",
   "nbconvert_exporter": "python",
   "pygments_lexer": "ipython3",
   "version": "3.8.8"
  }
 },
 "nbformat": 4,
 "nbformat_minor": 5
}
