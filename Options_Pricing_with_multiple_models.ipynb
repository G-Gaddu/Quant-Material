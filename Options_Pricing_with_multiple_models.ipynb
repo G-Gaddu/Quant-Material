{
  "nbformat": 4,
  "nbformat_minor": 0,
  "metadata": {
    "colab": {
      "provenance": [],
      "authorship_tag": "ABX9TyNzi1WMhNmzUwEbx68qn4xJ",
      "include_colab_link": true
    },
    "kernelspec": {
      "name": "python3",
      "display_name": "Python 3"
    },
    "language_info": {
      "name": "python"
    }
  },
  "cells": [
    {
      "cell_type": "markdown",
      "metadata": {
        "id": "view-in-github",
        "colab_type": "text"
      },
      "source": [
        "<a href=\"https://colab.research.google.com/github/G-Gaddu/Quant-Material/blob/main/Options_Pricing_with_multiple_models.ipynb\" target=\"_parent\"><img src=\"https://colab.research.google.com/assets/colab-badge.svg\" alt=\"Open In Colab\"/></a>"
      ]
    },
    {
      "cell_type": "code",
      "execution_count": 13,
      "metadata": {
        "id": "QTk6KBz7JSxN"
      },
      "outputs": [],
      "source": [
        "# Import the necessary packages\n",
        "import numpy as np\n",
        "from scipy.stats import norm\n",
        "import pandas as pd"
      ]
    },
    {
      "cell_type": "code",
      "source": [
        "# Create a class to store the properties of an option\n",
        "class OptionProperties:\n",
        "  def __init__(self, S0, K, r, T, N, div=0, is_put=False, is_am=False):\n",
        "    self.S0 = S0       # Initial stock price\n",
        "    self.K = K         # Strike price\n",
        "    self.r = r         # Risk-free rate\n",
        "    self.T = T         # Time to maturity\n",
        "    self.N = N         # Number of steps (for tree models)\n",
        "    self.div = div     # Dividend yield\n",
        "    self.is_put = is_put  # True for a put option, False for a call option\n",
        "    self.is_am = is_am    # True for American, False for European"
      ],
      "metadata": {
        "id": "3SUYLl6CJy6h"
      },
      "execution_count": null,
      "outputs": []
    },
    {
      "cell_type": "code",
      "source": [
        "# Create a class to price an option using the Monte Carlo Method\n",
        "class MonteCarloPricing:\n",
        "  def __init__(self, option):\n",
        "    self.option = option\n",
        "\n",
        "  def price(self, M=10000):\n",
        "    dt = self.option.T / self.option.N\n",
        "    discount_factor = np.exp(-self.option.r * self.option.T)\n",
        "\n",
        "    # Simulate M price paths\n",
        "    prices = np.zeros(M)\n",
        "    for i in range(M):\n",
        "      price_path = self.option.S0\n",
        "      for _ in range(self.option.N):\n",
        "        z = np.random.normal()\n",
        "        price_path *= np.exp((self.option.r - self.option.div - 0.5 * 0.2**2) * dt + 0.2 * np.sqrt(dt) * z)\n",
        "      prices[i] = price_path\n",
        "\n",
        "    if self.option.is_put:\n",
        "      payoff = np.maximum(self.option.K - prices, 0)\n",
        "    else:\n",
        "      payoff = np.maximum(prices - self.option.K, 0)\n",
        "\n",
        "    return discount_factor * np.mean(payoff)\n"
      ],
      "metadata": {
        "id": "mRrlXNOWzX4V"
      },
      "execution_count": 29,
      "outputs": []
    },
    {
      "cell_type": "code",
      "source": [
        "# Create a class to price options using the Trinomial Tree\n",
        "class TrinomialTree:\n",
        "  def __init__(self, option):\n",
        "    self.option = option\n",
        "\n",
        "  def price(self):\n",
        "    dt = self.option.T / self.option.N\n",
        "    u = np.exp(0.2 * np.sqrt(2 * dt))  # Up factor\n",
        "    d = 1 / u  # Down factor\n",
        "    m = 1  # Middle factor (no change)\n",
        "    q = np.exp(-self.option.div * dt)\n",
        "\n",
        "    # Probabilities for up, down, and middle moves\n",
        "    pu = ((np.exp(self.option.r * dt / 2) - np.exp(-0.2 * np.sqrt(dt / 2)))**2) / ((np.exp(0.2 * np.sqrt(dt / 2)) - np.exp(-0.2 * np.sqrt(dt / 2)))**2)\n",
        "    pd = ((np.exp(0.2 * np.sqrt(dt / 2)) - np.exp(self.option.r * dt / 2))**2) / ((np.exp(0.2 * np.sqrt(dt / 2)) - np.exp(-0.2 * np.sqrt(dt / 2)))**2)\n",
        "    pm = 1 - pu - pd\n",
        "\n",
        "    # Initialize the price tree\n",
        "    stock_prices = np.zeros((2 * self.option.N + 1, self.option.N + 1))\n",
        "    stock_prices[self.option.N, 0] = self.option.S0\n",
        "\n",
        "    for i in range(1, self.option.N + 1):\n",
        "      for j in range(-i, i + 1, 1):\n",
        "        stock_prices[self.option.N + j, i] = self.option.S0 * (u ** j)\n",
        "\n",
        "    option_values = np.maximum(0, (self.option.K - stock_prices) if self.option.is_put else (stock_prices - self.option.K))\n",
        "\n",
        "    for i in range(self.option.N - 1, -1, -1):\n",
        "      for j in range(-i, i + 1, 1):\n",
        "        option_values[self.option.N + j, i] = (pu * option_values[self.option.N + j + 1, i + 1] + pm * option_values[self.option.N + j, i + 1] + pd * option_values[self.option.N + j - 1, i + 1]) * q\n",
        "        if self.option.is_am:\n",
        "          option_values[self.option.N + j, i] = max(option_values[self.option.N + j, i], self.option.K - stock_prices[self.option.N + j, i] if self.option.is_put else stock_prices[self.option.N + j, i] - self.option.K)\n",
        "\n",
        "    return option_values[self.option.N, 0]"
      ],
      "metadata": {
        "id": "JUPM_Sqk0OF8"
      },
      "execution_count": 30,
      "outputs": []
    },
    {
      "cell_type": "code",
      "source": [
        "# Create a class to price options using the Cox-Ross-Rubinstein (CRR) Binomial Tree Pricing model\n",
        "class CRRBinomialTree:\n",
        "  def __init__(self, option):\n",
        "    self.option = option\n",
        "\n",
        "  def price(self):\n",
        "    dt = self.option.T / self.option.N\n",
        "    u = np.exp(0.2 * np.sqrt(dt))  # Up factor\n",
        "    d = 1 / u # Down factor\n",
        "    pu = (np.exp((self.option.r - self.option.div) * dt) - d) / (u - d)  # Probability of up move\n",
        "    pd = 1 - pu  # Probability of down move\n",
        "    discount = np.exp(-self.option.r * dt)\n",
        "\n",
        "    # Stock price tree\n",
        "    stock_prices = np.zeros((self.option.N + 1, self.option.N + 1))\n",
        "    for i in range(self.option.N + 1):\n",
        "      for j in range(i + 1):\n",
        "        stock_prices[j, i] = self.option.S0 * (u ** (i - j)) * (d ** j)\n",
        "\n",
        "    # Option price at maturity\n",
        "    option_values = np.maximum(0, (self.option.K - stock_prices[:, self.option.N]) if self.option.is_put else (stock_prices[:, self.option.N] - self.option.K))\n",
        "\n",
        "    # Backward iteration to get the option price\n",
        "    for i in range(self.option.N - 1, -1, -1):\n",
        "      for j in range(i + 1):\n",
        "        option_values[j] = discount * (pu * option_values[j] + pd * option_values[j + 1])\n",
        "        if self.option.is_am:\n",
        "          option_values[j] = max(option_values[j], self.option.K - stock_prices[j, i] if self.option.is_put else stock_prices[j, i] - self.option.K)\n",
        "\n",
        "    return option_values[0]"
      ],
      "metadata": {
        "id": "t09b3QOHWqkh"
      },
      "execution_count": null,
      "outputs": []
    },
    {
      "cell_type": "code",
      "source": [
        "# A class to price options using the Finite Difference Method (Explicit Scheme) method\n",
        "class FiniteDifferenceMethod:\n",
        "  def __init__(self, option, M=100, Smax=2):\n",
        "    self.option = option\n",
        "    self.M = M\n",
        "    self.Smax = Smax * option.K\n",
        "\n",
        "  def price(self):\n",
        "    dt = self.option.T / self.option.N\n",
        "    ds = self.Smax / self.M\n",
        "    grid = np.zeros((self.M + 1, self.option.N + 1))\n",
        "    stock_prices = np.linspace(0, self.Smax, self.M + 1)\n",
        "\n",
        "    # Boundary conditions\n",
        "    if self.option.is_put:\n",
        "      grid[:, -1] = np.maximum(self.option.K - stock_prices, 0)\n",
        "    else:\n",
        "      grid[:, -1] = np.maximum(stock_prices - self.option.K, 0)\n",
        "\n",
        "    for i in range(self.M + 1):\n",
        "      grid[i, 0] = 0 if self.option.is_put else max(stock_prices[i] - self.option.K, 0)\n",
        "\n",
        "    alpha = 0.5 * dt * (0.2**2 * np.arange(self.M + 1)**2 - (self.option.r - self.option.div) * np.arange(self.M + 1))\n",
        "    beta = -dt * (0.2**2 * np.arange(self.M + 1)**2 + self.option.r)\n",
        "    gamma = 0.5 * dt * (0.2**2 * np.arange(self.M + 1)**2 + (self.option.r - self.option.div) * np.arange(self.M + 1))\n",
        "\n",
        "    # Backward induction\n",
        "    for j in range(self.option.N - 1, -1, -1):\n",
        "      for i in range(1, self.M):\n",
        "        grid[i, j] = alpha[i] * grid[i - 1, j + 1] + beta[i] * grid[i, j + 1] + gamma[i] * grid[i + 1, j + 1]\n",
        "\n",
        "      # Apply early exercise condition for American options\n",
        "      if self.option.is_am:\n",
        "        if self.option.is_put:\n",
        "          grid[:, j] = np.maximum(grid[:, j], self.option.K - stock_prices)\n",
        "        else:\n",
        "          grid[:, j] = np.maximum(grid[:, j], stock_prices - self.option.K)\n",
        "\n",
        "    return np.interp(self.option.S0, stock_prices, grid[:, 0])\n"
      ],
      "metadata": {
        "id": "LAww5ris7UZx"
      },
      "execution_count": 8,
      "outputs": []
    },
    {
      "cell_type": "code",
      "source": [
        "# A class to price options using the Leisen-Reimer Tree Pricing method\n",
        "class LeisenReimerTree:\n",
        "  def __init__(self, option):\n",
        "    self.option = option\n",
        "\n",
        "  def price(self):\n",
        "    dt = self.option.T / self.option.N\n",
        "    u = np.exp(0.2 * np.sqrt(dt))\n",
        "    d = 1 / u\n",
        "    p = 0.5  # Use Leisen-Reimer probabilities or something similar\n",
        "    discount = np.exp(-self.option.r * dt)\n",
        "\n",
        "    stock_prices = np.zeros((self.option.N + 1, self.option.N + 1))\n",
        "    for i in range(self.option.N + 1):\n",
        "      for j in range(i + 1):\n",
        "        stock_prices[j, i] = self.option.S0 * (u ** (i - j)) * (d ** j)\n",
        "\n",
        "    option_values = np.maximum(0, (self.option.K - stock_prices[:, self.option.N]) if self.option.is_put else (stock_prices[:, self.option.N] - self.option.K))\n",
        "\n",
        "    for i in range(self.option.N - 1, -1, -1):\n",
        "      for j in range(i + 1):\n",
        "        option_values[j] = discount * (p * option_values[j] + (1 - p) * option_values[j + 1])\n",
        "        if self.option.is_am:\n",
        "          option_values[j] = max(option_values[j], self.option.K - stock_prices[j, i] if self.option.is_put else stock_prices[j, i] - self.option.K)\n",
        "\n",
        "    return option_values[0]"
      ],
      "metadata": {
        "id": "pJ9OzQlI9P88"
      },
      "execution_count": 9,
      "outputs": []
    },
    {
      "cell_type": "code",
      "source": [
        "# Function to price European options using the Black-Scholes-Merton (BSM) formula\n",
        "def black_scholes_price(S, K, r, T, sigma, is_put=False):\n",
        "  d1 = (np.log(S / K) + (r + 0.5 * sigma**2) * T) / (sigma * np.sqrt(T))\n",
        "  d2 = d1 - sigma * np.sqrt(T)\n",
        "  if is_put:\n",
        "    price = K * np.exp(-r * T) * norm.cdf(-d2) - S * norm.cdf(-d1)\n",
        "  else:\n",
        "    price = S * norm.cdf(d1) - K * np.exp(-r * T) * norm.cdf(d2)\n",
        "  return price"
      ],
      "metadata": {
        "id": "0H2ibQRzEFpZ"
      },
      "execution_count": 11,
      "outputs": []
    },
    {
      "cell_type": "code",
      "source": [
        "# Create a function the calculate the \"true\" price of an option which we will use to compare with our models. We will use Black Scholes for European Options and a CRR tree with 1000 steps for American options\n",
        "def true_option_price(option, sigma=0.2):\n",
        "  if option.is_am:\n",
        "    # Use a high number of steps in CRR for American options\n",
        "    high_steps = 1000\n",
        "    option_high_steps = OptionProperties(S0=option.S0, K=option.K, r=option.r, T=option.T, N=high_steps, is_put=option.is_put, is_am=True)\n",
        "    crr_pricer = CRRBinomialTree(option_high_steps)\n",
        "    return crr_pricer.price()\n",
        "  else:\n",
        "    # Use Black-Scholes for European options\n",
        "    return black_scholes_price(option.S0, option.K, option.r, option.T, sigma, is_put=option.is_put)\n"
      ],
      "metadata": {
        "id": "TghaSOATEd9C"
      },
      "execution_count": 12,
      "outputs": []
    },
    {
      "cell_type": "code",
      "source": [
        "# Create a function to price our options and compare them with the \"true prices\"\n",
        "def compare_models_with_metrics():\n",
        "  options = [OptionProperties(S0=100, K=100, r=0.05, T=1, N=100, is_put=False, is_am=False),\n",
        "             OptionProperties(S0=100, K=100, r=0.05, T=1, N=100, is_put=True, is_am=False),\n",
        "             OptionProperties(S0=100, K=100, r=0.05, T=1, N=100, is_put=False, is_am=True),\n",
        "             OptionProperties(S0=100, K=100, r=0.05, T=1, N=100, is_put=True, is_am=True),\n",
        "             OptionProperties(S0=100, K=105, r=0.03, T=0.5, N=50, is_put=False, is_am=False),\n",
        "             OptionProperties(S0=90, K=95, r=0.04, T=2, N=200, is_put=True, is_am=True)\n",
        "             ]\n",
        "\n",
        "  # Results list to store pricing data\n",
        "  results = []\n",
        "\n",
        "  for option in options:\n",
        "    # True option price (Black-Scholes for European, CRR high N for American)\n",
        "    true_price = true_option_price(option)\n",
        "\n",
        "    # Monte Carlo Pricing\n",
        "    mc_pricer = MonteCarloPricing(option)\n",
        "    mc_price = mc_pricer.price()\n",
        "\n",
        "    # Trinomial Tree Pricing\n",
        "    trinomial_pricer = TrinomialTree(option)\n",
        "    trinomial_price = trinomial_pricer.price()\n",
        "\n",
        "    # CRR Binomial Tree Pricing\n",
        "    crr_pricer = CRRBinomialTree(option)\n",
        "    crr_price = crr_pricer.price()\n",
        "\n",
        "    # Finite Difference Method\n",
        "    fdm_pricer = FiniteDifferenceMethod(option)\n",
        "    fdm_price = fdm_pricer.price()\n",
        "\n",
        "    # Leisen-Reimer Tree Pricing\n",
        "    lr_pricer = LeisenReimerTree(option)\n",
        "    lr_price = lr_pricer.price()\n",
        "\n",
        "    # Collect data with metrics into the results list\n",
        "    results.append({\n",
        "        \"Option Type\": f\"{'American' if option.is_am else 'European'} {'Put' if option.is_put else 'Call'}\",\n",
        "        \"S0\": option.S0,\n",
        "        \"K\": option.K,\n",
        "        \"T\": option.T,\n",
        "        \"N\": option.N,\n",
        "        \"True Price\": true_price,\n",
        "        \"Monte Carlo\": mc_price,\n",
        "        \"MC Abs Error\": abs(mc_price - true_price),\n",
        "        \"MC % Error\": abs(mc_price - true_price) / true_price * 100,\n",
        "        \"Trinomial Tree\": trinomial_price,\n",
        "        \"Trinomial Abs Error\": abs(trinomial_price - true_price),\n",
        "        \"Trinomial % Error\": abs(trinomial_price - true_price) / true_price * 100,\n",
        "        \"CRR Binomial Tree\": crr_price,\n",
        "        \"CRR Abs Error\": abs(crr_price - true_price),\n",
        "        \"CRR % Error\": abs(crr_price - true_price) / true_price * 100,\n",
        "        \"Finite Difference\": fdm_price,\n",
        "        \"FDM Abs Error\": abs(fdm_price - true_price),\n",
        "        \"FDM % Error\": abs(fdm_price - true_price) / true_price * 100,\n",
        "        \"Leisen-Reimer Tree\": lr_price,\n",
        "        \"LR Abs Error\": abs(lr_price - true_price),\n",
        "        \"LR % Error\": abs(lr_price - true_price) / true_price * 100\n",
        "        })\n",
        "  # Convert the results list into a DataFrame for easy viewing\n",
        "  df = pd.DataFrame(results)\n",
        "  return df"
      ],
      "metadata": {
        "id": "3PGaStAGE3m-"
      },
      "execution_count": 24,
      "outputs": []
    },
    {
      "cell_type": "code",
      "source": [
        "# Use the compare metrics for all types of pricing methods for each of the options in the compare with metrics functions\n",
        "\n",
        "df = compare_models_with_metrics()\n",
        "print(df)\n"
      ],
      "metadata": {
        "colab": {
          "base_uri": "https://localhost:8080/"
        },
        "id": "16bYUAKjFvCp",
        "outputId": "2e57356a-9286-4f0e-e973-7b80a686354b"
      },
      "execution_count": 26,
      "outputs": [
        {
          "output_type": "stream",
          "name": "stdout",
          "text": [
            "     Option Type   S0    K    T    N  True Price  Monte Carlo  MC Abs Error  \\\n",
            "0  European Call  100  100  1.0  100   10.450584    10.555242      0.104658   \n",
            "1   European Put  100  100  1.0  100    5.573526     5.557479      0.016047   \n",
            "2  American Call  100  100  1.0  100   10.448584    10.476777      0.028193   \n",
            "3   American Put  100  100  1.0  100    6.089595     5.656326      0.433270   \n",
            "4  European Call  100  105  0.5   50    4.178300     4.260808      0.082508   \n",
            "5   American Put   90   95  2.0  200   10.059935     8.950530      1.109405   \n",
            "\n",
            "   MC % Error  Trinomial Tree  ...  Trinomial % Error  CRR Binomial Tree  \\\n",
            "0    1.001456       10.975892  ...           5.026592          10.430612   \n",
            "1    0.287913        5.848782  ...           4.938636           5.553554   \n",
            "2    0.269823       10.975892  ...           5.046691          10.430612   \n",
            "3    7.114919        6.256466  ...           2.740260           6.082354   \n",
            "4    1.974686        4.248928  ...           1.690355           4.186038   \n",
            "5   11.027954       10.445275  ...           3.830444          10.067278   \n",
            "\n",
            "   CRR Abs Error  CRR % Error  Finite Difference  FDM Abs Error   FDM % Error  \\\n",
            "0       0.019972     0.191108       1.877239e+52   1.877239e+52  1.796300e+53   \n",
            "1       0.019972     0.358335      -4.557156e+38   4.557156e+38  8.176432e+39   \n",
            "2       0.017972     0.172008       0.000000e+00   1.044858e+01  1.000000e+02   \n",
            "3       0.007241     0.118906       0.000000e+00   6.089595e+00  1.000000e+02   \n",
            "4       0.007738     0.185202      -1.089498e+14   1.089498e+14  2.607516e+15   \n",
            "5       0.007343     0.072994       1.076339e+65   1.076339e+65  1.069927e+66   \n",
            "\n",
            "   Leisen-Reimer Tree  LR Abs Error  LR % Error  \n",
            "0            8.633251      1.817333   17.389774  \n",
            "1            6.711769      1.138243   20.422317  \n",
            "2            8.633457      1.815127   17.371988  \n",
            "3            6.962095      0.872499   14.327706  \n",
            "4            3.973644      0.204656    4.898074  \n",
            "5           11.123729      1.063794   10.574561  \n",
            "\n",
            "[6 rows x 21 columns]\n"
          ]
        }
      ]
    },
    {
      "cell_type": "code",
      "source": [],
      "metadata": {
        "id": "ZQIqpfdtKm6T"
      },
      "execution_count": null,
      "outputs": []
    }
  ]
}