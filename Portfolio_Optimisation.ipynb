{
  "nbformat": 4,
  "nbformat_minor": 0,
  "metadata": {
    "colab": {
      "provenance": [],
      "authorship_tag": "ABX9TyNjlwRRhmhC4EbxhOVOXJxi",
      "include_colab_link": true
    },
    "kernelspec": {
      "name": "python3",
      "display_name": "Python 3"
    },
    "language_info": {
      "name": "python"
    }
  },
  "cells": [
    {
      "cell_type": "markdown",
      "metadata": {
        "id": "view-in-github",
        "colab_type": "text"
      },
      "source": [
        "<a href=\"https://colab.research.google.com/github/G-Gaddu/Quant-Material/blob/main/Portfolio_Optimisation.ipynb\" target=\"_parent\"><img src=\"https://colab.research.google.com/assets/colab-badge.svg\" alt=\"Open In Colab\"/></a>"
      ]
    },
    {
      "cell_type": "code",
      "execution_count": 1,
      "metadata": {
        "colab": {
          "base_uri": "https://localhost:8080/"
        },
        "id": "GPTofY6wLqMC",
        "outputId": "49e8d267-2966-4d1a-f151-660beb4f3647"
      },
      "outputs": [
        {
          "output_type": "stream",
          "name": "stdout",
          "text": [
            "Requirement already satisfied: pandas-datareader in /usr/local/lib/python3.10/dist-packages (0.10.0)\n",
            "Requirement already satisfied: lxml in /usr/local/lib/python3.10/dist-packages (from pandas-datareader) (4.9.4)\n",
            "Requirement already satisfied: pandas>=0.23 in /usr/local/lib/python3.10/dist-packages (from pandas-datareader) (2.1.4)\n",
            "Requirement already satisfied: requests>=2.19.0 in /usr/local/lib/python3.10/dist-packages (from pandas-datareader) (2.32.3)\n",
            "Requirement already satisfied: numpy<2,>=1.22.4 in /usr/local/lib/python3.10/dist-packages (from pandas>=0.23->pandas-datareader) (1.26.4)\n",
            "Requirement already satisfied: python-dateutil>=2.8.2 in /usr/local/lib/python3.10/dist-packages (from pandas>=0.23->pandas-datareader) (2.8.2)\n",
            "Requirement already satisfied: pytz>=2020.1 in /usr/local/lib/python3.10/dist-packages (from pandas>=0.23->pandas-datareader) (2024.1)\n",
            "Requirement already satisfied: tzdata>=2022.1 in /usr/local/lib/python3.10/dist-packages (from pandas>=0.23->pandas-datareader) (2024.1)\n",
            "Requirement already satisfied: charset-normalizer<4,>=2 in /usr/local/lib/python3.10/dist-packages (from requests>=2.19.0->pandas-datareader) (3.3.2)\n",
            "Requirement already satisfied: idna<4,>=2.5 in /usr/local/lib/python3.10/dist-packages (from requests>=2.19.0->pandas-datareader) (3.8)\n",
            "Requirement already satisfied: urllib3<3,>=1.21.1 in /usr/local/lib/python3.10/dist-packages (from requests>=2.19.0->pandas-datareader) (2.0.7)\n",
            "Requirement already satisfied: certifi>=2017.4.17 in /usr/local/lib/python3.10/dist-packages (from requests>=2.19.0->pandas-datareader) (2024.8.30)\n",
            "Requirement already satisfied: six>=1.5 in /usr/local/lib/python3.10/dist-packages (from python-dateutil>=2.8.2->pandas>=0.23->pandas-datareader) (1.16.0)\n",
            "Collecting PyPortfolioOpt\n",
            "  Downloading pyportfolioopt-1.5.5-py3-none-any.whl.metadata (23 kB)\n",
            "Requirement already satisfied: cvxpy<2.0.0,>=1.1.19 in /usr/local/lib/python3.10/dist-packages (from PyPortfolioOpt) (1.5.3)\n",
            "Requirement already satisfied: numpy<2.0.0,>=1.22.4 in /usr/local/lib/python3.10/dist-packages (from PyPortfolioOpt) (1.26.4)\n",
            "Requirement already satisfied: pandas>=0.19 in /usr/local/lib/python3.10/dist-packages (from PyPortfolioOpt) (2.1.4)\n",
            "Requirement already satisfied: scipy<2.0,>=1.3 in /usr/local/lib/python3.10/dist-packages (from PyPortfolioOpt) (1.13.1)\n",
            "Requirement already satisfied: osqp>=0.6.2 in /usr/local/lib/python3.10/dist-packages (from cvxpy<2.0.0,>=1.1.19->PyPortfolioOpt) (0.6.7.post0)\n",
            "Requirement already satisfied: ecos>=2 in /usr/local/lib/python3.10/dist-packages (from cvxpy<2.0.0,>=1.1.19->PyPortfolioOpt) (2.0.14)\n",
            "Requirement already satisfied: clarabel>=0.5.0 in /usr/local/lib/python3.10/dist-packages (from cvxpy<2.0.0,>=1.1.19->PyPortfolioOpt) (0.9.0)\n",
            "Requirement already satisfied: scs>=3.2.4.post1 in /usr/local/lib/python3.10/dist-packages (from cvxpy<2.0.0,>=1.1.19->PyPortfolioOpt) (3.2.7)\n",
            "Requirement already satisfied: python-dateutil>=2.8.2 in /usr/local/lib/python3.10/dist-packages (from pandas>=0.19->PyPortfolioOpt) (2.8.2)\n",
            "Requirement already satisfied: pytz>=2020.1 in /usr/local/lib/python3.10/dist-packages (from pandas>=0.19->PyPortfolioOpt) (2024.1)\n",
            "Requirement already satisfied: tzdata>=2022.1 in /usr/local/lib/python3.10/dist-packages (from pandas>=0.19->PyPortfolioOpt) (2024.1)\n",
            "Requirement already satisfied: qdldl in /usr/local/lib/python3.10/dist-packages (from osqp>=0.6.2->cvxpy<2.0.0,>=1.1.19->PyPortfolioOpt) (0.1.7.post4)\n",
            "Requirement already satisfied: six>=1.5 in /usr/local/lib/python3.10/dist-packages (from python-dateutil>=2.8.2->pandas>=0.19->PyPortfolioOpt) (1.16.0)\n",
            "Downloading pyportfolioopt-1.5.5-py3-none-any.whl (61 kB)\n",
            "\u001b[2K   \u001b[90m━━━━━━━━━━━━━━━━━━━━━━━━━━━━━━━━━━━━━━━━\u001b[0m \u001b[32m61.9/61.9 kB\u001b[0m \u001b[31m1.9 MB/s\u001b[0m eta \u001b[36m0:00:00\u001b[0m\n",
            "\u001b[?25hInstalling collected packages: PyPortfolioOpt\n",
            "Successfully installed PyPortfolioOpt-1.5.5\n"
          ]
        }
      ],
      "source": [
        "! pip install pandas-datareader\n",
        "! pip install PyPortfolioOpt"
      ]
    },
    {
      "cell_type": "code",
      "source": [
        "# Import the necessary packages\n",
        "import pandas_datareader.data as pdata\n",
        "import datetime\n",
        "import pandas as pd\n",
        "from functools import reduce\n",
        "from pypfopt.expected_returns import mean_historical_return\n",
        "from pypfopt.risk_models import CovarianceShrinkage\n",
        "from pypfopt.efficient_frontier import EfficientFrontier\n",
        "from pypfopt import risk_models\n",
        "from pypfopt import expected_returns\n",
        "from pypfopt.discrete_allocation import DiscreteAllocation, get_latest_prices\n",
        "from pypfopt import HRPOpt\n",
        "import yfinance as yf"
      ],
      "metadata": {
        "id": "XEg94FfOLwjy"
      },
      "execution_count": 16,
      "outputs": []
    },
    {
      "cell_type": "code",
      "source": [
        "import warnings\n",
        "warnings.filterwarnings('ignore')\n"
      ],
      "metadata": {
        "id": "MKa3vFppQTiW"
      },
      "execution_count": 26,
      "outputs": []
    },
    {
      "cell_type": "code",
      "source": [
        "# Limit the display limits on the rows and the columns\n",
        "pd.set_option('display.max_columns', None)\n",
        "pd.set_option('display.max_rows', None)"
      ],
      "metadata": {
        "id": "9JuNExRrMisL"
      },
      "execution_count": 6,
      "outputs": []
    },
    {
      "cell_type": "code",
      "source": [
        "# Create a function that will pull the date for several stocks\n",
        "def get_stock(ticker):\n",
        "  data = yf.download(f\"{ticker}\",start=\"2022-01-01\",end=\"2023-12-31\")\n",
        "  data[f'{ticker}'] = data[\"Close\"]\n",
        "  data = data[[f'{ticker}']]\n",
        "  print(data.head())\n",
        "  return data"
      ],
      "metadata": {
        "id": "6dBPqizJM0Mw"
      },
      "execution_count": 22,
      "outputs": []
    },
    {
      "cell_type": "code",
      "source": [
        "# Create another function that takes a list of stocks and generates a single dataframe of stocks\n",
        "def combine_stocks(tickers):\n",
        "  data_frames = []\n",
        "  for i in tickers:\n",
        "    data_frames.append(get_stock(i))\n",
        "  df_merged = reduce(lambda left,right: pd.merge(left,right,on=[\"Date\"],how=\"outer\"),data_frames)\n",
        "  print(df_merged.head())\n",
        "  return df_merged\n",
        "\n",
        "stocks = [\"AAPL\", \"AZN.L\", \"JPM\", \"ACN\", \"CCH.L\", \"BA\", \"WMT\", \"SHEL.L\", \"VTI\", \"GSK.L\"]\n",
        "portfolio = combine_stocks(stocks)\n",
        ""
      ],
      "metadata": {
        "colab": {
          "base_uri": "https://localhost:8080/"
        },
        "id": "GaPGpDK_NHuZ",
        "outputId": "11090cff-dbbf-4407-a49c-88b8e0a63502"
      },
      "execution_count": 23,
      "outputs": [
        {
          "output_type": "stream",
          "name": "stderr",
          "text": [
            "\r[*********************100%***********************]  1 of 1 completed\n"
          ]
        },
        {
          "output_type": "stream",
          "name": "stdout",
          "text": [
            "                  AAPL\n",
            "Date                  \n",
            "2022-01-03  182.009995\n",
            "2022-01-04  179.699997\n",
            "2022-01-05  174.919998\n",
            "2022-01-06  172.000000\n",
            "2022-01-07  172.169998\n"
          ]
        },
        {
          "output_type": "stream",
          "name": "stderr",
          "text": [
            "\r[*********************100%***********************]  1 of 1 completed\n"
          ]
        },
        {
          "output_type": "stream",
          "name": "stdout",
          "text": [
            "             AZN.L\n",
            "Date              \n",
            "2022-01-04  8473.0\n",
            "2022-01-05  8460.0\n",
            "2022-01-06  8356.0\n",
            "2022-01-07  8399.0\n",
            "2022-01-10  8334.0\n"
          ]
        },
        {
          "output_type": "stream",
          "name": "stderr",
          "text": [
            "\r[*********************100%***********************]  1 of 1 completed\n"
          ]
        },
        {
          "output_type": "stream",
          "name": "stdout",
          "text": [
            "                   JPM\n",
            "Date                  \n",
            "2022-01-03  161.699997\n",
            "2022-01-04  167.830002\n",
            "2022-01-05  163.779999\n",
            "2022-01-06  165.520004\n",
            "2022-01-07  167.160004\n"
          ]
        },
        {
          "output_type": "stream",
          "name": "stderr",
          "text": [
            "[*********************100%***********************]  1 of 1 completed\n",
            "[*********************100%***********************]  1 of 1 completed\n"
          ]
        },
        {
          "output_type": "stream",
          "name": "stdout",
          "text": [
            "                   ACN\n",
            "Date                  \n",
            "2022-01-03  407.209991\n",
            "2022-01-04  404.299988\n",
            "2022-01-05  397.179993\n",
            "2022-01-06  378.000000\n",
            "2022-01-07  370.750000\n",
            "             CCH.L\n",
            "Date              \n",
            "2022-01-04  2645.0\n",
            "2022-01-05  2645.0\n",
            "2022-01-06  2617.0\n",
            "2022-01-07  2614.0\n",
            "2022-01-10  2671.0\n"
          ]
        },
        {
          "output_type": "stream",
          "name": "stderr",
          "text": [
            "\r[*********************100%***********************]  1 of 1 completed\n"
          ]
        },
        {
          "output_type": "stream",
          "name": "stdout",
          "text": [
            "                    BA\n",
            "Date                  \n",
            "2022-01-03  207.860001\n",
            "2022-01-04  213.630005\n",
            "2022-01-05  213.070007\n",
            "2022-01-06  211.339996\n",
            "2022-01-07  215.500000\n"
          ]
        },
        {
          "output_type": "stream",
          "name": "stderr",
          "text": [
            "[*********************100%***********************]  1 of 1 completed\n",
            "[*********************100%***********************]  1 of 1 completed\n"
          ]
        },
        {
          "output_type": "stream",
          "name": "stdout",
          "text": [
            "                  WMT\n",
            "Date                 \n",
            "2022-01-03  48.216667\n",
            "2022-01-04  47.333332\n",
            "2022-01-05  47.973331\n",
            "2022-01-06  47.840000\n",
            "2022-01-07  48.296665\n",
            "                 SHEL.L\n",
            "Date                   \n",
            "2022-01-04  1700.800049\n",
            "2022-01-05  1722.199951\n",
            "2022-01-06  1718.199951\n",
            "2022-01-07  1736.599976\n",
            "2022-01-10  1730.599976\n"
          ]
        },
        {
          "output_type": "stream",
          "name": "stderr",
          "text": [
            "\r[*********************100%***********************]  1 of 1 completed\n"
          ]
        },
        {
          "output_type": "stream",
          "name": "stdout",
          "text": [
            "                   VTI\n",
            "Date                  \n",
            "2022-01-03  242.970001\n",
            "2022-01-04  242.509995\n",
            "2022-01-05  237.250000\n",
            "2022-01-06  237.190002\n",
            "2022-01-07  236.110001\n"
          ]
        },
        {
          "output_type": "stream",
          "name": "stderr",
          "text": [
            "\r[*********************100%***********************]  1 of 1 completed"
          ]
        },
        {
          "output_type": "stream",
          "name": "stdout",
          "text": [
            "                  GSK.L\n",
            "Date                   \n",
            "2022-01-04  1609.153198\n",
            "2022-01-05  1616.809082\n",
            "2022-01-06  1600.489868\n",
            "2022-01-07  1610.160645\n",
            "2022-01-10  1623.256226\n",
            "                  AAPL   AZN.L         JPM         ACN   CCH.L          BA  \\\n",
            "Date                                                                         \n",
            "2022-01-03  182.009995     NaN  161.699997  407.209991     NaN  207.860001   \n",
            "2022-01-04  179.699997  8473.0  167.830002  404.299988  2645.0  213.630005   \n",
            "2022-01-05  174.919998  8460.0  163.779999  397.179993  2645.0  213.070007   \n",
            "2022-01-06  172.000000  8356.0  165.520004  378.000000  2617.0  211.339996   \n",
            "2022-01-07  172.169998  8399.0  167.160004  370.750000  2614.0  215.500000   \n",
            "\n",
            "                  WMT       SHEL.L         VTI        GSK.L  \n",
            "Date                                                         \n",
            "2022-01-03  48.216667          NaN  242.970001          NaN  \n",
            "2022-01-04  47.333332  1700.800049  242.509995  1609.153198  \n",
            "2022-01-05  47.973331  1722.199951  237.250000  1616.809082  \n",
            "2022-01-06  47.840000  1718.199951  237.190002  1600.489868  \n",
            "2022-01-07  48.296665  1736.599976  236.110001  1610.160645  \n"
          ]
        },
        {
          "output_type": "stream",
          "name": "stderr",
          "text": [
            "\n"
          ]
        }
      ]
    },
    {
      "cell_type": "code",
      "source": [
        "# Save the prices to a csv file\n",
        "portfolio.to_csv(\"portfolio.csv\", index=False)\n",
        "portfolio = pd.read_csv(\"portfolio.csv\")"
      ],
      "metadata": {
        "id": "bVjMXVqgP6g1"
      },
      "execution_count": 24,
      "outputs": []
    },
    {
      "cell_type": "code",
      "source": [
        "# Conduct Markowitz optimisation, find the mean historical return and the covariance matrix\n",
        "mu = mean_historical_return(portfolio)\n",
        "S = CovarianceShrinkage(portfolio).ledoit_wolf()"
      ],
      "metadata": {
        "id": "qc-tb_RyQD94"
      },
      "execution_count": 27,
      "outputs": []
    },
    {
      "cell_type": "code",
      "source": [
        "mu, S"
      ],
      "metadata": {
        "colab": {
          "base_uri": "https://localhost:8080/"
        },
        "id": "h1GC2GUoQbDn",
        "outputId": "01258cda-4d56-419d-a6d9-886cdc49b6d4"
      },
      "execution_count": 29,
      "outputs": [
        {
          "output_type": "execute_result",
          "data": {
            "text/plain": [
              "(AAPL      0.027987\n",
              " AZN.L     0.094225\n",
              " JPM       0.025190\n",
              " ACN      -0.070487\n",
              " CCH.L    -0.088724\n",
              " BA        0.117608\n",
              " WMT       0.043182\n",
              " SHEL.L    0.229040\n",
              " VTI      -0.011696\n",
              " GSK.L    -0.059367\n",
              " dtype: float64,\n",
              "             AAPL     AZN.L       JPM       ACN     CCH.L        BA       WMT  \\\n",
              " AAPL    0.084786  0.003794  0.027539  0.043970  0.009919  0.040303  0.014701   \n",
              " AZN.L   0.003794  0.092991  0.005266  0.005145 -0.015934  0.005561  0.000740   \n",
              " JPM     0.027539  0.005266  0.070971  0.028622  0.012623  0.034602  0.008770   \n",
              " ACN     0.043970  0.005145  0.028622  0.080463  0.010641  0.038158  0.013884   \n",
              " CCH.L   0.009919 -0.015934  0.012623  0.010641  0.127601  0.016568  0.004304   \n",
              " BA      0.040303  0.005561  0.034602  0.038158  0.016568  0.132508  0.010821   \n",
              " WMT     0.014701  0.000740  0.008770  0.013884  0.004304  0.010821  0.056531   \n",
              " SHEL.L  0.002939  0.040413  0.012328  0.002524 -0.045054  0.008154  0.000230   \n",
              " VTI     0.037702  0.004286  0.026926  0.035646  0.008790  0.036404  0.012545   \n",
              " GSK.L   0.000222  0.015110  0.003019  0.002329  0.006165  0.000703  0.001995   \n",
              " \n",
              "           SHEL.L       VTI     GSK.L  \n",
              " AAPL    0.002939  0.037702  0.000222  \n",
              " AZN.L   0.040413  0.004286  0.015110  \n",
              " JPM     0.012328  0.026926  0.003019  \n",
              " ACN     0.002524  0.035646  0.002329  \n",
              " CCH.L  -0.045054  0.008790  0.006165  \n",
              " BA      0.008154  0.036404  0.000703  \n",
              " WMT     0.000230  0.012545  0.001995  \n",
              " SHEL.L  0.143466  0.005432 -0.007165  \n",
              " VTI     0.005432  0.050732  0.001552  \n",
              " GSK.L  -0.007165  0.001552  0.108538  )"
            ]
          },
          "metadata": {},
          "execution_count": 29
        }
      ]
    },
    {
      "cell_type": "code",
      "source": [
        "# Determine the efficient frontier and weights\n",
        "ef = EfficientFrontier(mu, S)\n",
        "weights = ef.max_sharpe()\n",
        "cleaned_weights = ef.clean_weights()\n",
        "print(dict(cleaned_weights))"
      ],
      "metadata": {
        "colab": {
          "base_uri": "https://localhost:8080/"
        },
        "id": "SqlI_rAEQf1e",
        "outputId": "f3c72855-d67e-42bf-a7ea-412934d52507"
      },
      "execution_count": 30,
      "outputs": [
        {
          "output_type": "stream",
          "name": "stdout",
          "text": [
            "{'AAPL': 0.0, 'AZN.L': 0.06582, 'JPM': 0.0, 'ACN': 0.0, 'CCH.L': 0.0, 'BA': 0.25473, 'WMT': 0.11601, 'SHEL.L': 0.56344, 'VTI': 0.0, 'GSK.L': 0.0}\n"
          ]
        }
      ]
    },
    {
      "cell_type": "code",
      "source": [
        "# Display the portfolio performance\n",
        "ef.portfolio_performance(verbose=True)"
      ],
      "metadata": {
        "colab": {
          "base_uri": "https://localhost:8080/"
        },
        "id": "6Q4-FIwWQsMe",
        "outputId": "4cf6810b-6c5b-4536-d1e1-582a3e07dca5"
      },
      "execution_count": 31,
      "outputs": [
        {
          "output_type": "stream",
          "name": "stdout",
          "text": [
            "Expected annual return: 17.0%\n",
            "Annual volatility: 24.8%\n",
            "Sharpe Ratio: 0.61\n"
          ]
        },
        {
          "output_type": "execute_result",
          "data": {
            "text/plain": [
              "(0.17021995539967705, 0.24801787719105184, 0.6056819657558814)"
            ]
          },
          "metadata": {},
          "execution_count": 31
        }
      ]
    },
    {
      "cell_type": "code",
      "source": [
        "# Convert Weights into allocations from an investment of $100,000\n",
        "latest_prices = get_latest_prices(portfolio)\n",
        "da = DiscreteAllocation(weights, latest_prices, total_portfolio_value=100000)\n",
        "allocation, leftover = da.greedy_portfolio()\n",
        "print(\"Discrete allocation:\", allocation)\n",
        "print(\"Funds remaining: ${:.2f}\".format(leftover))"
      ],
      "metadata": {
        "colab": {
          "base_uri": "https://localhost:8080/"
        },
        "id": "BW0lLTgOQ39R",
        "outputId": "b567f76b-5ca4-4b17-f6b9-69a8be07f736"
      },
      "execution_count": 32,
      "outputs": [
        {
          "output_type": "stream",
          "name": "stdout",
          "text": [
            "Discrete allocation: {'SHEL.L': 21, 'BA': 97, 'WMT': 220}\n",
            "Funds remaining: $8848.98\n"
          ]
        }
      ]
    },
    {
      "cell_type": "code",
      "source": [
        "# Hierarchical Risk Parity\n",
        "# Determine Returns\n",
        "returns = portfolio.pct_change().dropna()"
      ],
      "metadata": {
        "id": "Jfn3lU1QRXNd"
      },
      "execution_count": 35,
      "outputs": []
    },
    {
      "cell_type": "code",
      "source": [
        "# Run the optimsation algorithm to determine the weights\n",
        "hrp = HRPOpt(returns)\n",
        "hrp_weights = hrp.optimize()"
      ],
      "metadata": {
        "id": "l_-cZOdzRc1Z"
      },
      "execution_count": 36,
      "outputs": []
    },
    {
      "cell_type": "code",
      "source": [
        "# Print the performance and weights\n",
        "hrp.portfolio_performance(verbose=True)\n",
        "print(dict(hrp_weights))"
      ],
      "metadata": {
        "colab": {
          "base_uri": "https://localhost:8080/"
        },
        "id": "1HLMuI_rRpVl",
        "outputId": "4c563762-18ab-493e-84c3-241d44b2a9fe"
      },
      "execution_count": 38,
      "outputs": [
        {
          "output_type": "stream",
          "name": "stdout",
          "text": [
            "Expected annual return: 7.4%\n",
            "Annual volatility: 13.6%\n",
            "Sharpe Ratio: 0.40\n",
            "{'AAPL': 0.03377793600801006, 'ACN': 0.06425590267549505, 'AZN.L': 0.11402077621321878, 'BA': 0.041586974872649125, 'CCH.L': 0.10120456683331265, 'GSK.L': 0.09415998597385376, 'JPM': 0.09185240815863345, 'SHEL.L': 0.09350161914661205, 'VTI': 0.07028202706025986, 'WMT': 0.2953578030579552}\n"
          ]
        }
      ]
    },
    {
      "cell_type": "code",
      "source": [
        "# Determine discrete allocation using the weights\n",
        "da_hrp = DiscreteAllocation(hrp_weights, latest_prices, total_portfolio_value=100000)\n",
        "allocation, leftover = da_hrp.greedy_portfolio()\n",
        "print(\"Discrete allocation (HRP):\", allocation)\n",
        "print(\"Funds remaining (HRP): ${:.2f}\".format(leftover))"
      ],
      "metadata": {
        "colab": {
          "base_uri": "https://localhost:8080/"
        },
        "id": "uC78MIY_RwPY",
        "outputId": "f33aea0c-2fcb-4a8d-d118-0eab552cd539"
      },
      "execution_count": 39,
      "outputs": [
        {
          "output_type": "stream",
          "name": "stdout",
          "text": [
            "Discrete allocation (HRP): {'WMT': 562, 'AZN.L': 1, 'CCH.L': 5, 'GSK.L': 6, 'SHEL.L': 4, 'JPM': 54, 'VTI': 30, 'ACN': 18, 'BA': 16, 'AAPL': 18}\n",
            "Funds remaining (HRP): $218.42\n"
          ]
        }
      ]
    },
    {
      "cell_type": "code",
      "source": [
        "# Mean conditional value at risk\n",
        "from pypfopt.efficient_frontier import EfficientCVaR"
      ],
      "metadata": {
        "id": "UaP5Dw_DSFz9"
      },
      "execution_count": 40,
      "outputs": []
    },
    {
      "cell_type": "code",
      "source": [
        "# Calculate weights and get performance\n",
        "S = portfolio.cov()\n",
        "ef_cvar = EfficientCVaR(mu, S)\n",
        "cvar_weights = ef_cvar.min_cvar()\n",
        "cleaned_weights = ef_cvar.clean_weights()\n",
        "print(dict(cleaned_weights))"
      ],
      "metadata": {
        "colab": {
          "base_uri": "https://localhost:8080/"
        },
        "id": "54XGbfHhSV2t",
        "outputId": "58dba58c-d47e-43a9-9589-532e279d0aaf"
      },
      "execution_count": 41,
      "outputs": [
        {
          "output_type": "stream",
          "name": "stdout",
          "text": [
            "{'AAPL': 0.0, 'AZN.L': 0.0, 'JPM': 0.0, 'ACN': 0.0, 'CCH.L': 0.17539, 'BA': 0.0, 'WMT': 0.0, 'SHEL.L': 0.39884, 'VTI': 0.0, 'GSK.L': 0.42578}\n"
          ]
        }
      ]
    },
    {
      "cell_type": "code",
      "source": [
        "# Get the discrete allocation\n",
        "da_cvar = DiscreteAllocation(cvar_weights, latest_prices, total_portfolio_value=100000)\n",
        "allocation, leftover = da_cvar.greedy_portfolio()\n",
        "print(\"Discrete allocation (CVaR):\", allocation)\n",
        "print(\"Funds remaining (CVaR): ${:.2f}\".format(leftover))"
      ],
      "metadata": {
        "colab": {
          "base_uri": "https://localhost:8080/"
        },
        "id": "XltKOH7fSqzv",
        "outputId": "bac7ec73-24d4-41d1-91ef-6f157ba37d67"
      },
      "execution_count": 42,
      "outputs": [
        {
          "output_type": "stream",
          "name": "stdout",
          "text": [
            "Discrete allocation (CVaR): {'GSK.L': 30, 'SHEL.L': 15, 'CCH.L': 8, 'ACN': 1, 'BA': 1}\n",
            "Funds remaining (CVaR): $448.43\n"
          ]
        }
      ]
    }
  ]
}