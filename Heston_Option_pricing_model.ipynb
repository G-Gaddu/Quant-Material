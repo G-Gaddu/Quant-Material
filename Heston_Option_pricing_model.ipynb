{
  "nbformat": 4,
  "nbformat_minor": 0,
  "metadata": {
    "colab": {
      "provenance": [],
      "authorship_tag": "ABX9TyOgSPz/7uAxvQX77+mzYILk",
      "include_colab_link": true
    },
    "kernelspec": {
      "name": "python3",
      "display_name": "Python 3"
    },
    "language_info": {
      "name": "python"
    }
  },
  "cells": [
    {
      "cell_type": "markdown",
      "metadata": {
        "id": "view-in-github",
        "colab_type": "text"
      },
      "source": [
        "<a href=\"https://colab.research.google.com/github/G-Gaddu/Quant-Material/blob/main/Heston_Option_pricing_model.ipynb\" target=\"_parent\"><img src=\"https://colab.research.google.com/assets/colab-badge.svg\" alt=\"Open In Colab\"/></a>"
      ]
    },
    {
      "cell_type": "code",
      "execution_count": 2,
      "metadata": {
        "colab": {
          "base_uri": "https://localhost:8080/"
        },
        "id": "iS__yeRjmdhx",
        "outputId": "d5586a11-a826-492f-f42b-434de2706e68"
      },
      "outputs": [
        {
          "output_type": "stream",
          "name": "stdout",
          "text": [
            "Collecting nelson-siegel-svensson\n",
            "  Downloading nelson_siegel_svensson-0.5.0-py2.py3-none-any.whl.metadata (6.7 kB)\n",
            "Requirement already satisfied: Click>=8.0 in /usr/local/lib/python3.10/dist-packages (from nelson-siegel-svensson) (8.1.7)\n",
            "Requirement already satisfied: numpy>=1.22 in /usr/local/lib/python3.10/dist-packages (from nelson-siegel-svensson) (1.26.4)\n",
            "Requirement already satisfied: scipy>=1.7 in /usr/local/lib/python3.10/dist-packages (from nelson-siegel-svensson) (1.13.1)\n",
            "Requirement already satisfied: matplotlib>=3.5 in /usr/local/lib/python3.10/dist-packages (from nelson-siegel-svensson) (3.7.1)\n",
            "Requirement already satisfied: contourpy>=1.0.1 in /usr/local/lib/python3.10/dist-packages (from matplotlib>=3.5->nelson-siegel-svensson) (1.2.1)\n",
            "Requirement already satisfied: cycler>=0.10 in /usr/local/lib/python3.10/dist-packages (from matplotlib>=3.5->nelson-siegel-svensson) (0.12.1)\n",
            "Requirement already satisfied: fonttools>=4.22.0 in /usr/local/lib/python3.10/dist-packages (from matplotlib>=3.5->nelson-siegel-svensson) (4.53.1)\n",
            "Requirement already satisfied: kiwisolver>=1.0.1 in /usr/local/lib/python3.10/dist-packages (from matplotlib>=3.5->nelson-siegel-svensson) (1.4.5)\n",
            "Requirement already satisfied: packaging>=20.0 in /usr/local/lib/python3.10/dist-packages (from matplotlib>=3.5->nelson-siegel-svensson) (24.1)\n",
            "Requirement already satisfied: pillow>=6.2.0 in /usr/local/lib/python3.10/dist-packages (from matplotlib>=3.5->nelson-siegel-svensson) (9.4.0)\n",
            "Requirement already satisfied: pyparsing>=2.3.1 in /usr/local/lib/python3.10/dist-packages (from matplotlib>=3.5->nelson-siegel-svensson) (3.1.2)\n",
            "Requirement already satisfied: python-dateutil>=2.7 in /usr/local/lib/python3.10/dist-packages (from matplotlib>=3.5->nelson-siegel-svensson) (2.8.2)\n",
            "Requirement already satisfied: six>=1.5 in /usr/local/lib/python3.10/dist-packages (from python-dateutil>=2.7->matplotlib>=3.5->nelson-siegel-svensson) (1.16.0)\n",
            "Downloading nelson_siegel_svensson-0.5.0-py2.py3-none-any.whl (9.9 kB)\n",
            "Installing collected packages: nelson-siegel-svensson\n",
            "Successfully installed nelson-siegel-svensson-0.5.0\n",
            "Collecting eod\n",
            "  Downloading eod-0.2.1-py3-none-any.whl.metadata (30 kB)\n",
            "Requirement already satisfied: numpy in /usr/local/lib/python3.10/dist-packages (from eod) (1.26.4)\n",
            "Requirement already satisfied: pandas in /usr/local/lib/python3.10/dist-packages (from eod) (2.1.4)\n",
            "Requirement already satisfied: requests in /usr/local/lib/python3.10/dist-packages (from eod) (2.32.3)\n",
            "Requirement already satisfied: python-dateutil>=2.8.2 in /usr/local/lib/python3.10/dist-packages (from pandas->eod) (2.8.2)\n",
            "Requirement already satisfied: pytz>=2020.1 in /usr/local/lib/python3.10/dist-packages (from pandas->eod) (2024.1)\n",
            "Requirement already satisfied: tzdata>=2022.1 in /usr/local/lib/python3.10/dist-packages (from pandas->eod) (2024.1)\n",
            "Requirement already satisfied: charset-normalizer<4,>=2 in /usr/local/lib/python3.10/dist-packages (from requests->eod) (3.3.2)\n",
            "Requirement already satisfied: idna<4,>=2.5 in /usr/local/lib/python3.10/dist-packages (from requests->eod) (3.7)\n",
            "Requirement already satisfied: urllib3<3,>=1.21.1 in /usr/local/lib/python3.10/dist-packages (from requests->eod) (2.0.7)\n",
            "Requirement already satisfied: certifi>=2017.4.17 in /usr/local/lib/python3.10/dist-packages (from requests->eod) (2024.7.4)\n",
            "Requirement already satisfied: six>=1.5 in /usr/local/lib/python3.10/dist-packages (from python-dateutil>=2.8.2->pandas->eod) (1.16.0)\n",
            "Downloading eod-0.2.1-py3-none-any.whl (45 kB)\n",
            "\u001b[2K   \u001b[90m━━━━━━━━━━━━━━━━━━━━━━━━━━━━━━━━━━━━━━━━\u001b[0m \u001b[32m45.9/45.9 kB\u001b[0m \u001b[31m2.1 MB/s\u001b[0m eta \u001b[36m0:00:00\u001b[0m\n",
            "\u001b[?25hInstalling collected packages: eod\n",
            "Successfully installed eod-0.2.1\n"
          ]
        }
      ],
      "source": [
        "# Install the additional packages\n",
        "!pip install nelson-siegel-svensson\n",
        "!pip install eod"
      ]
    },
    {
      "cell_type": "code",
      "source": [
        "# Import the necessary packages\n",
        "import os\n",
        "import numpy as np\n",
        "import matplotlib.pyplot as plt\n",
        "from scipy.integrate import quad\n",
        "from scipy.optimize import minimize\n",
        "from datetime import datetime as datetime_CAPI\n",
        "from eod import EodHistoricalData\n",
        "from nelson_siegel_svensson import NelsonSiegelSvenssonCurve\n",
        "from nelson_siegel_svensson.calibrate import calibrate_nss_ols"
      ],
      "metadata": {
        "id": "3ctUap840Y8V"
      },
      "execution_count": 3,
      "outputs": []
    },
    {
      "cell_type": "markdown",
      "source": [
        "First we define the characteristic equation"
      ],
      "metadata": {
        "id": "8kqcs40y3yE6"
      }
    },
    {
      "cell_type": "code",
      "source": [
        "def heston_characteristic(phi, S0, v0, kappa, theta, sigma, rho, lambd, tau, r):\n",
        "  # Define the constants\n",
        "  a = kappa * theta\n",
        "  b = kappa + lambd\n",
        "  rspi = rho*sigma*phi*1j\n",
        "  # Define the d parameters\n",
        "  d = np.sqrt((rho*sigma*phi*1j-b)**2 + (phi*1j+phi**2)*sigma**2)\n",
        "  # Define the g parameter\n",
        "  g = (b-rspi+d)/(b-rspi-d)\n",
        "  # Determine the function by it's components\n",
        "  exp1 = np.exp(r*phi*1j*tau)\n",
        "  term2 = S0**(phi*1j)*((1-g*np.exp(d*tau))/(1-g))**(-2*a/sigma**2)\n",
        "  exp2 = np.exp(a*tau*(b-rspi+d)/sigma**2+v0*(b-rspi+d)*((1-np.exp(d*tau))/(1-g*np.exp(d*tau)))/sigma**2)\n",
        "\n",
        "  return exp1*term2*exp2\n"
      ],
      "metadata": {
        "id": "kqYTCAS53Xlu"
      },
      "execution_count": 4,
      "outputs": []
    },
    {
      "cell_type": "markdown",
      "source": [
        "Define the integrand as a function"
      ],
      "metadata": {
        "id": "plgqGypK59N6"
      }
    },
    {
      "cell_type": "code",
      "source": [
        "def integrand(phi, S0, v0, kappa, theta, sigma, rho, lambd, tau, r):\n",
        "  args = (S0, v0, kappa, theta, sigma, rho, lambd, tau, r)\n",
        "  numerator = np.exp(r*tau)*heston_characteristic(phi-1j,*args) - K*heston_characteristic(phi,*args)\n",
        "  denominator = 1j*phi*K**(1j*phi)\n",
        "  return numerator/denominator\n"
      ],
      "metadata": {
        "id": "Odqh8bFY6AA4"
      },
      "execution_count": 5,
      "outputs": []
    },
    {
      "cell_type": "markdown",
      "source": [
        "Perform numerical integration over integrand and calculate the option price"
      ],
      "metadata": {
        "id": "kGg1irKs7hL6"
      }
    },
    {
      "cell_type": "code",
      "source": [
        "def heston_price_rec(S0, K, v0, kappa, theta, sigma, rho, lamd, tau, r):\n",
        "  args = (S0, v0, kappa, theta, sigma, rho, lambd, tau, r)\n",
        "  P, umax, N = 0, 100, 10000\n",
        "  dphi = umax/N\n",
        "\n",
        "  for i in range(1,N):\n",
        "    phi = dphi*(2*i+1)/2\n",
        "    numerator = np.exp(r*tau)*heston_characteristic(phi-1j,*args) - K*heston_characteristic(phi,*args)\n",
        "    denominator = 1j*phi*K**(1j*phi)\n",
        "    P += dphi * numerator/denominator\n",
        "\n",
        "  return np.real((S0-K*np.exp(-r*tau))/2 + P/np.pi)\n"
      ],
      "metadata": {
        "id": "qpEqHSw57mXp"
      },
      "execution_count": 6,
      "outputs": []
    },
    {
      "cell_type": "code",
      "source": [
        "def heston_price(S0, K, v0, kappa, theta, sigma, rho, lambd, tau, r):\n",
        "  args = (S0, v0, kappa, theta, sigma, rho, lambd, tau, r)\n",
        "  real_integral, err = np.real(quad(integrand, 0, 100, args=args))\n",
        "  return (S0 - K*np.exp(-r*tau))/2 + real_integral/np.pi"
      ],
      "metadata": {
        "id": "UHn2SGia-UvX"
      },
      "execution_count": 7,
      "outputs": []
    },
    {
      "cell_type": "code",
      "source": [
        "# Define the parameters to test the model\n",
        "S0 = 100 # Initial asset price\n",
        "K = 100 # Strike Price\n",
        "v0 = 0.1 # Initial volatility\n",
        "r = 0.03 # Risk free rate\n",
        "kappa = 1.5768 # Rate of mean reversion of variance process\n",
        "theta = 0.0398 # Long Term mean variance\n",
        "sigma = 0.3 # volatility of volatility\n",
        "lambd = 0.575 # risk premium of variance\n",
        "rho = -0.5711 # correlation between variance and stock\n",
        "tau = 1 # time to maturity"
      ],
      "metadata": {
        "id": "H82CCNwE-vKO"
      },
      "execution_count": 8,
      "outputs": []
    },
    {
      "cell_type": "code",
      "source": [
        "heston_price(S0, K, v0, kappa, theta, sigma, rho, lambd, tau, r)"
      ],
      "metadata": {
        "id": "mXUtsZce_Txu",
        "outputId": "21956f61-c66e-412f-9692-38c9f199b8b8",
        "colab": {
          "base_uri": "https://localhost:8080/"
        }
      },
      "execution_count": 9,
      "outputs": [
        {
          "output_type": "stream",
          "name": "stderr",
          "text": [
            "/usr/local/lib/python3.10/dist-packages/scipy/integrate/_quadpack_py.py:611: ComplexWarning: Casting complex values to real discards the imaginary part\n",
            "  return _quadpack._qagse(func,a,b,args,full_output,epsabs,epsrel,limit)\n"
          ]
        },
        {
          "output_type": "execute_result",
          "data": {
            "text/plain": [
              "11.540361819355374"
            ]
          },
          "metadata": {},
          "execution_count": 9
        }
      ]
    },
    {
      "cell_type": "markdown",
      "source": [
        "Risk free rate from US Daily Treasury Par Yield Curve Rates"
      ],
      "metadata": {
        "id": "rODxpxpXHbqa"
      }
    },
    {
      "cell_type": "code",
      "source": [
        "yield_maturities = np.array([1/12, 2/12, 3/12, 6/12, 1, 2, 3, 5, 6, 10, 20, 30])\n",
        "yields = np.array([0.15, 0.27, 0.50, 0.93, 1.52, 2.13, 2.32, 2.34, 2.37, 2.32, 2.65, 2.52]).astype(float)"
      ],
      "metadata": {
        "id": "5xQXf1WnHg9R"
      },
      "execution_count": 10,
      "outputs": []
    },
    {
      "cell_type": "code",
      "source": [
        "curve_fit, status = calibrate_nss_ols(yield_maturities, yields)\n",
        "curve_fit"
      ],
      "metadata": {
        "colab": {
          "base_uri": "https://localhost:8080/"
        },
        "id": "yPOMwr38_D6m",
        "outputId": "34170380-c0f0-4a53-fdc5-7e8e83013366"
      },
      "execution_count": 11,
      "outputs": [
        {
          "output_type": "execute_result",
          "data": {
            "text/plain": [
              "NelsonSiegelSvenssonCurve(beta0=2.7274958346334213, beta1=-2.7909066964448366, beta2=-2426.3757519627684, beta3=2429.370130707843, tau1=1.7038350076385094, tau2=1.7020857519390162)"
            ]
          },
          "metadata": {},
          "execution_count": 11
        }
      ]
    },
    {
      "cell_type": "markdown",
      "source": [
        "EOD Historical Data API - Get the Market Option prices for the S&P 500 Index"
      ],
      "metadata": {
        "id": "QkWepPLnV4YG"
      }
    },
    {
      "cell_type": "code",
      "source": [
        "# Load the key from the environment variables\n",
        "api_key = os.environ.get('EOD_API_KEY') # place the key here\n",
        "client = EodHistoricalData(api_key)"
      ],
      "metadata": {
        "id": "ZFK3m8ouFyeH"
      },
      "execution_count": 12,
      "outputs": []
    },
    {
      "cell_type": "code",
      "source": [
        "resp = client.get_stock_options('GSPC.INDX')"
      ],
      "metadata": {
        "id": "dUfnFv-TJ19r"
      },
      "execution_count": null,
      "outputs": []
    },
    {
      "cell_type": "code",
      "source": [
        "resp\n",
        "\n",
        "market_prices = {}\n",
        "\n",
        "S0 - resp['lastTradePrice']\n",
        "\n",
        "for i in resp['data']:\n",
        "  market_prices[i['expirationDate']] = {}\n",
        "  market_prices[i['expirationDate']]['strikePrice'] = [name['strike'] for name in i['options']['CALL']]\n",
        "  market_prices[i['expirationDate']]['price'] = [(name['bid']+name['asl'])/2 for name in i['options']['CALL']]"
      ],
      "metadata": {
        "id": "qbVvEZSAJ-fM"
      },
      "execution_count": null,
      "outputs": []
    },
    {
      "cell_type": "code",
      "source": [
        "all_strikes = [v['strike'] for i,v in market_prices.items()]\n",
        "common_strikes = set.intersection(*map(set, all_strikes))\n",
        "print('Number of common strikes')\n",
        "common_strikes = sorted(common_strikes)"
      ],
      "metadata": {
        "id": "HszV23RVK72X"
      },
      "execution_count": null,
      "outputs": []
    },
    {
      "cell_type": "code",
      "source": [
        "prices = []\n",
        "maturities = []\n",
        "\n",
        "for date, v in market_prices.items():\n",
        "  maturities.append((dt.strptime(date, '%Y-%m-%d')-dt.today()).days.365.25)\n",
        "  price = [v['price'][i] for i,x in enumerate(v['stirke']) if x in common_strikes]\n",
        "  prices.append(price)\n",
        "\n",
        "price_arr = np.array(prices, dtype=object)\n",
        "np.shape(price_arr)"
      ],
      "metadata": {
        "id": "HLjA0UP2VpxR"
      },
      "execution_count": null,
      "outputs": []
    },
    {
      "cell_type": "code",
      "source": [
        "volSurface = pd.DataFrame(price_arr, index=maturities, columns=common_strikes)\n",
        "volSurface = volSurface.iloc[(volSurface.index > 0.04) & (volSurface.index < 1), (volSurface.columns>3000)&(volSurface.columns<5000)]\n",
        "volSurface"
      ],
      "metadata": {
        "id": "sly-BLc1WWTb"
      },
      "execution_count": null,
      "outputs": []
    },
    {
      "cell_type": "code",
      "source": [
        "# Convert the vol surface to dataframe for each option price with parameters\n",
        "volSurfaceLong = volSurface.melt(ignore_index=False).reset_index()\n",
        "volSurfaceLong.colun,umns = ['Maturity', 'Strike', 'Price']\n",
        "# Calculate the risk free rate for each maturity using the fitted yield curve\n",
        "volSurfaceLong['rate'] = volSurfaceLong['maturity'].apply(curve_fit)"
      ],
      "metadata": {
        "id": "0HxY4LaapYak"
      },
      "execution_count": null,
      "outputs": []
    },
    {
      "cell_type": "markdown",
      "source": [
        "Calibration - Optimization Objective Function"
      ],
      "metadata": {
        "id": "y--OSEMvqEbR"
      }
    },
    {
      "cell_type": "code",
      "source": [
        "# Define the variables to be used in optimisation\n",
        "S0 = resp['lastTradePrice']\n",
        "K = volSurfaceLong['strike'].to_numpy('float')\n",
        "r = volSurfaceLong['rate'].to_numpy('float')\n",
        "P = volSurfaceLong['price'].to_numpy('float')\n",
        "tau = volSurfaceLong['Maturity'].to_numpy('float')\n",
        "\n",
        "params = {\"v0\": {\"x0\": 0.1, \"lbub\": [1e-3,0.1]},\n",
        "          \"kappa\": {\"x0\": 3, \"lbub\": [1e-3,5]},\n",
        "          \"theta\": {\"x0\": 0,05, \"lbub\": [1e-3,0.1]},\n",
        "          \"sigma\": {\"x0\": 0.3, \"lbub\":[1e-2,1]},\n",
        "          \"rho\": {\"x0\":-0.8, \"lbub\":[-1,0]},\n",
        "          \"lambd\":{\"x0\":0.03, \"lbub\":[-1,1]},\n",
        "          }\n",
        "\n",
        "x0 = [param[\"x0\"] for key, param in params.items()]\n",
        "bnds = [param[\"lbub\"] for key, param in params.items()]\n",
        "\n",
        "def SqErr(x):\n",
        "  v0, kappa, theta, sigma, rho, lambd = [param for param in x]\n",
        "  err = np.sum((P-heston_price_rec(S0, K, v0, kappa, theta, sigma, rho, lambd, tau, r))**2/len(P))\n",
        "  pen = 0\n",
        "  return err + pen"
      ],
      "metadata": {
        "id": "T-EBux86p_JZ"
      },
      "execution_count": null,
      "outputs": []
    },
    {
      "cell_type": "code",
      "source": [
        "result = minimize(SqErr, x0, tol=1e-3, method='SLSQP', options={'maxiter':1e4}, bounds=bnds)"
      ],
      "metadata": {
        "id": "853G8u8E1Zpo"
      },
      "execution_count": null,
      "outputs": []
    },
    {
      "cell_type": "code",
      "source": [
        "result"
      ],
      "metadata": {
        "id": "7n31xwYG1TQ1"
      },
      "execution_count": null,
      "outputs": []
    },
    {
      "cell_type": "code",
      "source": [
        "v0, kappa, theta, sigma, rho, lambd = [param for param in result.x]\n",
        "v0, kappa, theta, sigma, rho, lambd"
      ],
      "metadata": {
        "id": "bMYYQlh91u5a"
      },
      "execution_count": null,
      "outputs": []
    },
    {
      "cell_type": "markdown",
      "source": [
        "Calculate Estimated Option Prices Using Calibrated Parameters"
      ],
      "metadata": {
        "id": "oLcLwjT22DHc"
      }
    },
    {
      "cell_type": "code",
      "source": [
        "heston_prices = heston_price_rec(S0, K, v0, kappa, theta, sigma, rho, lambd, tau, r)"
      ],
      "metadata": {
        "id": "mj0cFQab2HVB"
      },
      "execution_count": null,
      "outputs": []
    },
    {
      "cell_type": "code",
      "source": [
        "volSurfaceLong['heston_price'] = heston_prices"
      ],
      "metadata": {
        "id": "X8fSphTZ2Ma2"
      },
      "execution_count": null,
      "outputs": []
    },
    {
      "cell_type": "code",
      "source": [
        "volSurfaceLong"
      ],
      "metadata": {
        "id": "GsiP9OE_2P8I"
      },
      "execution_count": null,
      "outputs": []
    },
    {
      "cell_type": "markdown",
      "source": [
        "Visualise Market Prices vs Heston Prices"
      ],
      "metadata": {
        "id": "J6qRTBzU2StG"
      }
    },
    {
      "cell_type": "code",
      "source": [
        "import plotly.graph_objects as go\n",
        "from plotly.graph_objs import Surface\n",
        "from plotly.offline import iplot, init_notebook_mode\n",
        "init_notebook_mode"
      ],
      "metadata": {
        "id": "AfyKpToN2WG_"
      },
      "execution_count": null,
      "outputs": []
    },
    {
      "cell_type": "code",
      "source": [
        "fig = go.Figure(data=go.Mesh3d(x=volSurfaceLong.maturity),y=volSurfaceLong.strike,z=volSurface.price)\n",
        "fig.add_scatter3d(x=volSurfaceLong.maturity, y=volSurfaceLong.strike, z=volSurfaceLong.heston_price,mode='markers')\n",
        "fig.update_layout(\n",
        "    title.text='Market_Prices vs Calibrated Heston Prices (markers)',\n",
        "    scene = dict(xaxis_title='TIME (Years)',\n",
        "                 yaxis_titles='STRIKES (Pts)',\n",
        "                 zaxis_titles='INDEX OPTION PRICE (Pts)')\n",
        "    height = 800,\n",
        "    width = 800\n",
        ")\n",
        "fig.show(renderer=\"colab\")"
      ],
      "metadata": {
        "id": "aTYAKACX2iLF"
      },
      "execution_count": null,
      "outputs": []
    },
    {
      "cell_type": "markdown",
      "source": [],
      "metadata": {
        "id": "r3y1SlDv19gY"
      }
    }
  ]
}